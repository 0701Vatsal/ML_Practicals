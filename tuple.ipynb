{
  "nbformat": 4,
  "nbformat_minor": 0,
  "metadata": {
    "kernelspec": {
      "display_name": "Python 3",
      "language": "python",
      "name": "python3"
    },
    "language_info": {
      "codemirror_mode": {
        "name": "ipython",
        "version": 3
      },
      "file_extension": ".py",
      "mimetype": "text/x-python",
      "name": "python",
      "nbconvert_exporter": "python",
      "pygments_lexer": "ipython3",
      "version": "3.8.3"
    },
    "colab": {
      "name": "tuple.ipynb",
      "provenance": [],
      "collapsed_sections": [],
      "include_colab_link": true
    }
  },
  "cells": [
    {
      "cell_type": "markdown",
      "metadata": {
        "id": "view-in-github",
        "colab_type": "text"
      },
      "source": [
        "<a href=\"https://colab.research.google.com/github/0701Vatsal/ML_Practicals/blob/main/tuple.ipynb\" target=\"_parent\"><img src=\"https://colab.research.google.com/assets/colab-badge.svg\" alt=\"Open In Colab\"/></a>"
      ]
    },
    {
      "cell_type": "code",
      "metadata": {
        "colab": {
          "base_uri": "https://localhost:8080/"
        },
        "id": "Jz5qRCEzMw5M",
        "outputId": "e3e5b529-f0a1-49f9-9466-ac177b51842f"
      },
      "source": [
        "tuple1 = (\"car\",\"truck\",\"bus\",\"bullet\",[\"orange\",\"ginger\",\"cycle\"])\n",
        "type(tuple1)"
      ],
      "execution_count": 4,
      "outputs": [
        {
          "output_type": "execute_result",
          "data": {
            "text/plain": [
              "tuple"
            ]
          },
          "metadata": {
            "tags": []
          },
          "execution_count": 4
        }
      ]
    },
    {
      "cell_type": "code",
      "metadata": {
        "colab": {
          "base_uri": "https://localhost:8080/"
        },
        "id": "DM7MHbcXMw52",
        "outputId": "2e22d4b6-2cfb-496c-8fe0-2d765c9aca20"
      },
      "source": [
        "tuple1[4][1]=\"garlic\"\n",
        "tuple1"
      ],
      "execution_count": 5,
      "outputs": [
        {
          "output_type": "execute_result",
          "data": {
            "text/plain": [
              "('car', 'truck', 'bus', 'bullet', ['orange', 'garlic', 'cycle'])"
            ]
          },
          "metadata": {
            "tags": []
          },
          "execution_count": 5
        }
      ]
    },
    {
      "cell_type": "code",
      "metadata": {
        "id": "MihjE0SmMw56",
        "colab": {
          "base_uri": "https://localhost:8080/"
        },
        "outputId": "172d2094-47fd-40dc-9d0f-6720d205229b"
      },
      "source": [
        "tuple1[4][2]=\"apple\"\n",
        "tuple1"
      ],
      "execution_count": 7,
      "outputs": [
        {
          "output_type": "execute_result",
          "data": {
            "text/plain": [
              "('car', 'truck', 'bus', 'bullet', ['orange', 'garlic', 'apple'])"
            ]
          },
          "metadata": {
            "tags": []
          },
          "execution_count": 7
        }
      ]
    },
    {
      "cell_type": "code",
      "metadata": {
        "id": "bWaNHqKmMw58",
        "colab": {
          "base_uri": "https://localhost:8080/"
        },
        "outputId": "61c36b6f-9257-432a-8d35-1e9d9cc474db"
      },
      "source": [
        "tuple2 = (\"tuple\")\n",
        "type(tuple2)"
      ],
      "execution_count": 9,
      "outputs": [
        {
          "output_type": "execute_result",
          "data": {
            "text/plain": [
              "str"
            ]
          },
          "metadata": {
            "tags": []
          },
          "execution_count": 9
        }
      ]
    },
    {
      "cell_type": "code",
      "metadata": {
        "id": "UfJKyl-hMw5-",
        "colab": {
          "base_uri": "https://localhost:8080/"
        },
        "outputId": "61de7d6b-b035-48e5-f989-4a39aa0b135b"
      },
      "source": [
        "tuple2 = (\"tuple\",)\n",
        "type(tuple2)"
      ],
      "execution_count": 10,
      "outputs": [
        {
          "output_type": "execute_result",
          "data": {
            "text/plain": [
              "tuple"
            ]
          },
          "metadata": {
            "tags": []
          },
          "execution_count": 10
        }
      ]
    },
    {
      "cell_type": "code",
      "metadata": {
        "id": "NDuCfhyQMw6A"
      },
      "source": [
        ""
      ],
      "execution_count": null,
      "outputs": []
    }
  ]
}